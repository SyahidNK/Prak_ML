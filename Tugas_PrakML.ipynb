{
  "nbformat": 4,
  "nbformat_minor": 0,
  "metadata": {
    "colab": {
      "provenance": [],
      "authorship_tag": "ABX9TyONUINUI09ntQVdbC1ILcsc",
      "include_colab_link": true
    },
    "kernelspec": {
      "name": "python3",
      "display_name": "Python 3"
    },
    "language_info": {
      "name": "python"
    }
  },
  "cells": [
    {
      "cell_type": "markdown",
      "metadata": {
        "id": "view-in-github",
        "colab_type": "text"
      },
      "source": [
        "<a href=\"https://colab.research.google.com/github/SyahidNK/Prak_ML/blob/main/Tugas_PrakML.ipynb\" target=\"_parent\"><img src=\"https://colab.research.google.com/assets/colab-badge.svg\" alt=\"Open In Colab\"/></a>"
      ]
    },
    {
      "cell_type": "code",
      "execution_count": 2,
      "metadata": {
        "colab": {
          "base_uri": "https://localhost:8080/"
        },
        "id": "IeFv5106iD1U",
        "outputId": "3d299451-5373-4761-ac7b-a07b2387c1b4"
      },
      "outputs": [
        {
          "output_type": "stream",
          "name": "stdout",
          "text": [
            "Collecting phonenumbers\n",
            "  Downloading phonenumbers-8.13.31-py2.py3-none-any.whl (2.6 MB)\n",
            "\u001b[2K     \u001b[90m━━━━━━━━━━━━━━━━━━━━━━━━━━━━━━━━━━━━━━━━\u001b[0m \u001b[32m2.6/2.6 MB\u001b[0m \u001b[31m9.8 MB/s\u001b[0m eta \u001b[36m0:00:00\u001b[0m\n",
            "\u001b[?25hInstalling collected packages: phonenumbers\n",
            "Successfully installed phonenumbers-8.13.31\n"
          ]
        }
      ],
      "source": [
        "from time import time\n",
        "from numpy import number\n",
        "!pip install phonenumbers\n",
        "import phonenumbers\n",
        "from phonenumbers import timezone, geocoder, carrier"
      ]
    },
    {
      "cell_type": "code",
      "source": [
        "number = input(\"enter your number: \")\n",
        "phone = phonenumbers.parse(number)\n",
        "time = timezone.time_zones_for_number(phone)\n",
        "car = carrier.name_for_number(phone, \"en\")\n",
        "reg = geocoder.description_for_number(phone, \"en\")\n",
        "\n",
        "print(phone)\n",
        "print(time)\n",
        "print(car)\n",
        "print(reg)"
      ],
      "metadata": {
        "colab": {
          "base_uri": "https://localhost:8080/"
        },
        "id": "htHyu9hbjkow",
        "outputId": "93433657-e287-4950-8261-04fec6196ffc"
      },
      "execution_count": 6,
      "outputs": [
        {
          "output_type": "stream",
          "name": "stdout",
          "text": [
            "enter your number: +62895360530850\n",
            "Country Code: 62 National Number: 895360530850\n",
            "('Asia/Jakarta',)\n",
            "Indosat Ooredoo Hutchison\n",
            "Indonesia\n"
          ]
        }
      ]
    },
    {
      "cell_type": "code",
      "source": [],
      "metadata": {
        "id": "Ry5s7n_Ki1Lc"
      },
      "execution_count": null,
      "outputs": []
    }
  ]
}